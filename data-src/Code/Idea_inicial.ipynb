{
 "cells": [
  {
   "cell_type": "markdown",
   "metadata": {},
   "source": [
    "# Hackaton 2019"
   ]
  },
  {
   "cell_type": "markdown",
   "metadata": {},
   "source": [
    "## Enlaces de interes\n",
    "\n",
    "* Origen datos desplazados: https://www.datos.gov.co/Educaci-n/DESPLAZADOS-AGOSTO-2019/t48w-jvk7\n",
    "* Ejemplo sistema de recomendación: https://www.analiticaweb.es/primeros-pasos-sistemas-recomendacion/\n",
    "* Ejemplo sistema de recomendación: https://www.pybonacci.org/2015/12/11/breve-introduccion-a-los-sistemas-de-recomendacion/\n",
    "* Ejemplo sistema de recomendaciòn: https://medium.com/@juancarlosjaramillo_88910/gu%C3%ADa-para-construir-un-sistema-de-recomendaci%C3%B3n-parte-1-2b1a65d6eac3\n",
    "* Ejemplo sistema de recomendación: https://www.aprendemachinelearning.com/sistemas-de-recomendacion/\n",
    "* Sistema de recomendación google cloud: https://cloud.google.com/solutions/machine-learning/recommendation-system-tensorflow-deploy?hl=es-419\n",
    "* Sistema recomendación tensorflow: https://vitobellini.github.io/posts/2018/01/03/how-to-build-a-recommender-system-in-tensorflow.html"
   ]
  },
  {
   "cell_type": "markdown",
   "metadata": {},
   "source": [
    "# Sistema de recomendación"
   ]
  },
  {
   "cell_type": "code",
   "execution_count": null,
   "metadata": {},
   "outputs": [],
   "source": []
  }
 ],
 "metadata": {
  "kernelspec": {
   "display_name": "Python 3",
   "language": "python",
   "name": "python3"
  },
  "language_info": {
   "codemirror_mode": {
    "name": "ipython",
    "version": 3
   },
   "file_extension": ".py",
   "mimetype": "text/x-python",
   "name": "python",
   "nbconvert_exporter": "python",
   "pygments_lexer": "ipython3",
   "version": "3.7.3"
  }
 },
 "nbformat": 4,
 "nbformat_minor": 2
}
